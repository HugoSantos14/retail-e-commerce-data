{
 "cells": [
  {
   "cell_type": "code",
   "id": "c6eb81b6",
   "metadata": {
    "ExecuteTime": {
     "end_time": "2025-09-26T21:26:12.409665Z",
     "start_time": "2025-09-26T21:26:12.406794Z"
    }
   },
   "source": [
    "import pandas as pd\n",
    "import matplotlib.pyplot as plt\n",
    "import seaborn as sns\n",
    "from pathlib import Path"
   ],
   "outputs": [],
   "execution_count": 66
  },
  {
   "cell_type": "code",
   "id": "7d0b84f7",
   "metadata": {
    "ExecuteTime": {
     "end_time": "2025-09-26T21:26:13.182956Z",
     "start_time": "2025-09-26T21:26:12.421820Z"
    }
   },
   "source": [
    "df = pd.read_csv(Path.cwd().parent / \"data\" / \"bronze\" / \"online_retail_II.csv\")"
   ],
   "outputs": [],
   "execution_count": 67
  },
  {
   "cell_type": "code",
   "id": "689f293a",
   "metadata": {
    "ExecuteTime": {
     "end_time": "2025-09-26T21:26:13.203068Z",
     "start_time": "2025-09-26T21:26:13.191997Z"
    }
   },
   "source": [
    "df.head()"
   ],
   "outputs": [
    {
     "data": {
      "text/plain": [
       "  Invoice StockCode                          Description  Quantity  \\\n",
       "0  489434     85048  15CM CHRISTMAS GLASS BALL 20 LIGHTS        12   \n",
       "1  489434    79323P                   PINK CHERRY LIGHTS        12   \n",
       "2  489434    79323W                  WHITE CHERRY LIGHTS        12   \n",
       "3  489434     22041         RECORD FRAME 7\" SINGLE SIZE         48   \n",
       "4  489434     21232       STRAWBERRY CERAMIC TRINKET BOX        24   \n",
       "\n",
       "           InvoiceDate  Price  Customer ID         Country  \n",
       "0  2009-12-01 07:45:00   6.95      13085.0  United Kingdom  \n",
       "1  2009-12-01 07:45:00   6.75      13085.0  United Kingdom  \n",
       "2  2009-12-01 07:45:00   6.75      13085.0  United Kingdom  \n",
       "3  2009-12-01 07:45:00   2.10      13085.0  United Kingdom  \n",
       "4  2009-12-01 07:45:00   1.25      13085.0  United Kingdom  "
      ],
      "text/html": [
       "<div>\n",
       "<style scoped>\n",
       "    .dataframe tbody tr th:only-of-type {\n",
       "        vertical-align: middle;\n",
       "    }\n",
       "\n",
       "    .dataframe tbody tr th {\n",
       "        vertical-align: top;\n",
       "    }\n",
       "\n",
       "    .dataframe thead th {\n",
       "        text-align: right;\n",
       "    }\n",
       "</style>\n",
       "<table border=\"1\" class=\"dataframe\">\n",
       "  <thead>\n",
       "    <tr style=\"text-align: right;\">\n",
       "      <th></th>\n",
       "      <th>Invoice</th>\n",
       "      <th>StockCode</th>\n",
       "      <th>Description</th>\n",
       "      <th>Quantity</th>\n",
       "      <th>InvoiceDate</th>\n",
       "      <th>Price</th>\n",
       "      <th>Customer ID</th>\n",
       "      <th>Country</th>\n",
       "    </tr>\n",
       "  </thead>\n",
       "  <tbody>\n",
       "    <tr>\n",
       "      <th>0</th>\n",
       "      <td>489434</td>\n",
       "      <td>85048</td>\n",
       "      <td>15CM CHRISTMAS GLASS BALL 20 LIGHTS</td>\n",
       "      <td>12</td>\n",
       "      <td>2009-12-01 07:45:00</td>\n",
       "      <td>6.95</td>\n",
       "      <td>13085.0</td>\n",
       "      <td>United Kingdom</td>\n",
       "    </tr>\n",
       "    <tr>\n",
       "      <th>1</th>\n",
       "      <td>489434</td>\n",
       "      <td>79323P</td>\n",
       "      <td>PINK CHERRY LIGHTS</td>\n",
       "      <td>12</td>\n",
       "      <td>2009-12-01 07:45:00</td>\n",
       "      <td>6.75</td>\n",
       "      <td>13085.0</td>\n",
       "      <td>United Kingdom</td>\n",
       "    </tr>\n",
       "    <tr>\n",
       "      <th>2</th>\n",
       "      <td>489434</td>\n",
       "      <td>79323W</td>\n",
       "      <td>WHITE CHERRY LIGHTS</td>\n",
       "      <td>12</td>\n",
       "      <td>2009-12-01 07:45:00</td>\n",
       "      <td>6.75</td>\n",
       "      <td>13085.0</td>\n",
       "      <td>United Kingdom</td>\n",
       "    </tr>\n",
       "    <tr>\n",
       "      <th>3</th>\n",
       "      <td>489434</td>\n",
       "      <td>22041</td>\n",
       "      <td>RECORD FRAME 7\" SINGLE SIZE</td>\n",
       "      <td>48</td>\n",
       "      <td>2009-12-01 07:45:00</td>\n",
       "      <td>2.10</td>\n",
       "      <td>13085.0</td>\n",
       "      <td>United Kingdom</td>\n",
       "    </tr>\n",
       "    <tr>\n",
       "      <th>4</th>\n",
       "      <td>489434</td>\n",
       "      <td>21232</td>\n",
       "      <td>STRAWBERRY CERAMIC TRINKET BOX</td>\n",
       "      <td>24</td>\n",
       "      <td>2009-12-01 07:45:00</td>\n",
       "      <td>1.25</td>\n",
       "      <td>13085.0</td>\n",
       "      <td>United Kingdom</td>\n",
       "    </tr>\n",
       "  </tbody>\n",
       "</table>\n",
       "</div>"
      ]
     },
     "execution_count": 68,
     "metadata": {},
     "output_type": "execute_result"
    }
   ],
   "execution_count": 68
  },
  {
   "cell_type": "code",
   "id": "48327fdb",
   "metadata": {
    "ExecuteTime": {
     "end_time": "2025-09-26T21:26:13.466824Z",
     "start_time": "2025-09-26T21:26:13.323052Z"
    }
   },
   "source": [
    "df.info()"
   ],
   "outputs": [
    {
     "name": "stdout",
     "output_type": "stream",
     "text": [
      "<class 'pandas.core.frame.DataFrame'>\n",
      "RangeIndex: 1067371 entries, 0 to 1067370\n",
      "Data columns (total 8 columns):\n",
      " #   Column       Non-Null Count    Dtype  \n",
      "---  ------       --------------    -----  \n",
      " 0   Invoice      1067371 non-null  object \n",
      " 1   StockCode    1067371 non-null  object \n",
      " 2   Description  1062989 non-null  object \n",
      " 3   Quantity     1067371 non-null  int64  \n",
      " 4   InvoiceDate  1067371 non-null  object \n",
      " 5   Price        1067371 non-null  float64\n",
      " 6   Customer ID  824364 non-null   float64\n",
      " 7   Country      1067371 non-null  object \n",
      "dtypes: float64(2), int64(1), object(5)\n",
      "memory usage: 65.1+ MB\n"
     ]
    }
   ],
   "execution_count": 69
  },
  {
   "metadata": {
    "ExecuteTime": {
     "end_time": "2025-09-26T21:26:14.500705Z",
     "start_time": "2025-09-26T21:26:13.531788Z"
    }
   },
   "cell_type": "code",
   "source": [
    "# Verificação e remoção de duplicatas\n",
    "df.drop_duplicates(inplace=True)\n",
    "print(f\" Contagem de  duplicatas finais igual a {df.duplicated().sum()}\")"
   ],
   "id": "42369a7acf528083",
   "outputs": [
    {
     "name": "stdout",
     "output_type": "stream",
     "text": [
      " Contagem de  duplicatas finais igual a 0\n"
     ]
    }
   ],
   "execution_count": 70
  },
  {
   "metadata": {
    "ExecuteTime": {
     "end_time": "2025-09-26T21:26:14.565395Z",
     "start_time": "2025-09-26T21:26:14.558901Z"
    }
   },
   "cell_type": "code",
   "source": [
    "# renomear as colunas para snake-case\n",
    "df.columns = [col.strip().lower().replace(\" \", \"_\") for col in df.columns]\n",
    "df.columns\n"
   ],
   "id": "f98a8c5065969fd4",
   "outputs": [
    {
     "data": {
      "text/plain": [
       "Index(['invoice', 'stockcode', 'description', 'quantity', 'invoicedate',\n",
       "       'price', 'customer_id', 'country'],\n",
       "      dtype='object')"
      ]
     },
     "execution_count": 71,
     "metadata": {},
     "output_type": "execute_result"
    }
   ],
   "execution_count": 71
  },
  {
   "metadata": {
    "ExecuteTime": {
     "end_time": "2025-09-26T21:26:15.007003Z",
     "start_time": "2025-09-26T21:26:14.612840Z"
    }
   },
   "cell_type": "code",
   "source": [
    "# Organizar o dataset em datatime, separar em colunas e limpar tempos nulos.\n",
    "\n",
    "def _find_column(df, target_name: str) -> str:\n",
    "    def _norm(s: str) -> str:\n",
    "        return \"\".join(ch for ch in s.lower() if ch.isalnum())\n",
    "\n",
    "    target_norm = _norm(target_name)\n",
    "    for col in df.columns:\n",
    "        if _norm(col) == target_norm:\n",
    "            return col\n",
    "    raise KeyError(f\"Coluna referente a '{target_name}' não encontrada. Colunas disponíveis: {list(df.columns)}\")\n",
    "\n",
    "invoice_date_col = _find_column(df, \"InvoiceDate\")\n",
    "\n",
    "df[invoice_date_col] = pd.to_datetime(df[invoice_date_col], errors=\"coerce\")\n",
    "\n",
    "df[\"invoice_year\"] = df[invoice_date_col].dt.year\n",
    "df[\"invoice_month\"] = df[invoice_date_col].dt.month\n",
    "df[\"invoice_week_day\"] = df[invoice_date_col].dt.weekday\n",
    "df[\"invoice_day\"] = df[invoice_date_col].dt.day\n",
    "df[\"invoice_hour\"] = df[invoice_date_col].dt.hour\n",
    "df[\"invoice_minutes\"] = df[invoice_date_col].dt.minute\n",
    "\n",
    "df = df.dropna(subset=[invoice_date_col]).copy()\n",
    "df\n"
   ],
   "id": "509ef1ec8f01f590",
   "outputs": [
    {
     "data": {
      "text/plain": [
       "        invoice stockcode                          description  quantity  \\\n",
       "0        489434     85048  15CM CHRISTMAS GLASS BALL 20 LIGHTS        12   \n",
       "1        489434    79323P                   PINK CHERRY LIGHTS        12   \n",
       "2        489434    79323W                  WHITE CHERRY LIGHTS        12   \n",
       "3        489434     22041         RECORD FRAME 7\" SINGLE SIZE         48   \n",
       "4        489434     21232       STRAWBERRY CERAMIC TRINKET BOX        24   \n",
       "...         ...       ...                                  ...       ...   \n",
       "1067366  581587     22899         CHILDREN'S APRON DOLLY GIRL          6   \n",
       "1067367  581587     23254        CHILDRENS CUTLERY DOLLY GIRL          4   \n",
       "1067368  581587     23255      CHILDRENS CUTLERY CIRCUS PARADE         4   \n",
       "1067369  581587     22138        BAKING SET 9 PIECE RETROSPOT          3   \n",
       "1067370  581587      POST                              POSTAGE         1   \n",
       "\n",
       "                invoicedate  price  customer_id         country  invoice_year  \\\n",
       "0       2009-12-01 07:45:00   6.95      13085.0  United Kingdom          2009   \n",
       "1       2009-12-01 07:45:00   6.75      13085.0  United Kingdom          2009   \n",
       "2       2009-12-01 07:45:00   6.75      13085.0  United Kingdom          2009   \n",
       "3       2009-12-01 07:45:00   2.10      13085.0  United Kingdom          2009   \n",
       "4       2009-12-01 07:45:00   1.25      13085.0  United Kingdom          2009   \n",
       "...                     ...    ...          ...             ...           ...   \n",
       "1067366 2011-12-09 12:50:00   2.10      12680.0          France          2011   \n",
       "1067367 2011-12-09 12:50:00   4.15      12680.0          France          2011   \n",
       "1067368 2011-12-09 12:50:00   4.15      12680.0          France          2011   \n",
       "1067369 2011-12-09 12:50:00   4.95      12680.0          France          2011   \n",
       "1067370 2011-12-09 12:50:00  18.00      12680.0          France          2011   \n",
       "\n",
       "         invoice_month  invoice_week_day  invoice_day  invoice_hour  \\\n",
       "0                   12                 1            1             7   \n",
       "1                   12                 1            1             7   \n",
       "2                   12                 1            1             7   \n",
       "3                   12                 1            1             7   \n",
       "4                   12                 1            1             7   \n",
       "...                ...               ...          ...           ...   \n",
       "1067366             12                 4            9            12   \n",
       "1067367             12                 4            9            12   \n",
       "1067368             12                 4            9            12   \n",
       "1067369             12                 4            9            12   \n",
       "1067370             12                 4            9            12   \n",
       "\n",
       "         invoice_minutes  \n",
       "0                     45  \n",
       "1                     45  \n",
       "2                     45  \n",
       "3                     45  \n",
       "4                     45  \n",
       "...                  ...  \n",
       "1067366               50  \n",
       "1067367               50  \n",
       "1067368               50  \n",
       "1067369               50  \n",
       "1067370               50  \n",
       "\n",
       "[1033036 rows x 14 columns]"
      ],
      "text/html": [
       "<div>\n",
       "<style scoped>\n",
       "    .dataframe tbody tr th:only-of-type {\n",
       "        vertical-align: middle;\n",
       "    }\n",
       "\n",
       "    .dataframe tbody tr th {\n",
       "        vertical-align: top;\n",
       "    }\n",
       "\n",
       "    .dataframe thead th {\n",
       "        text-align: right;\n",
       "    }\n",
       "</style>\n",
       "<table border=\"1\" class=\"dataframe\">\n",
       "  <thead>\n",
       "    <tr style=\"text-align: right;\">\n",
       "      <th></th>\n",
       "      <th>invoice</th>\n",
       "      <th>stockcode</th>\n",
       "      <th>description</th>\n",
       "      <th>quantity</th>\n",
       "      <th>invoicedate</th>\n",
       "      <th>price</th>\n",
       "      <th>customer_id</th>\n",
       "      <th>country</th>\n",
       "      <th>invoice_year</th>\n",
       "      <th>invoice_month</th>\n",
       "      <th>invoice_week_day</th>\n",
       "      <th>invoice_day</th>\n",
       "      <th>invoice_hour</th>\n",
       "      <th>invoice_minutes</th>\n",
       "    </tr>\n",
       "  </thead>\n",
       "  <tbody>\n",
       "    <tr>\n",
       "      <th>0</th>\n",
       "      <td>489434</td>\n",
       "      <td>85048</td>\n",
       "      <td>15CM CHRISTMAS GLASS BALL 20 LIGHTS</td>\n",
       "      <td>12</td>\n",
       "      <td>2009-12-01 07:45:00</td>\n",
       "      <td>6.95</td>\n",
       "      <td>13085.0</td>\n",
       "      <td>United Kingdom</td>\n",
       "      <td>2009</td>\n",
       "      <td>12</td>\n",
       "      <td>1</td>\n",
       "      <td>1</td>\n",
       "      <td>7</td>\n",
       "      <td>45</td>\n",
       "    </tr>\n",
       "    <tr>\n",
       "      <th>1</th>\n",
       "      <td>489434</td>\n",
       "      <td>79323P</td>\n",
       "      <td>PINK CHERRY LIGHTS</td>\n",
       "      <td>12</td>\n",
       "      <td>2009-12-01 07:45:00</td>\n",
       "      <td>6.75</td>\n",
       "      <td>13085.0</td>\n",
       "      <td>United Kingdom</td>\n",
       "      <td>2009</td>\n",
       "      <td>12</td>\n",
       "      <td>1</td>\n",
       "      <td>1</td>\n",
       "      <td>7</td>\n",
       "      <td>45</td>\n",
       "    </tr>\n",
       "    <tr>\n",
       "      <th>2</th>\n",
       "      <td>489434</td>\n",
       "      <td>79323W</td>\n",
       "      <td>WHITE CHERRY LIGHTS</td>\n",
       "      <td>12</td>\n",
       "      <td>2009-12-01 07:45:00</td>\n",
       "      <td>6.75</td>\n",
       "      <td>13085.0</td>\n",
       "      <td>United Kingdom</td>\n",
       "      <td>2009</td>\n",
       "      <td>12</td>\n",
       "      <td>1</td>\n",
       "      <td>1</td>\n",
       "      <td>7</td>\n",
       "      <td>45</td>\n",
       "    </tr>\n",
       "    <tr>\n",
       "      <th>3</th>\n",
       "      <td>489434</td>\n",
       "      <td>22041</td>\n",
       "      <td>RECORD FRAME 7\" SINGLE SIZE</td>\n",
       "      <td>48</td>\n",
       "      <td>2009-12-01 07:45:00</td>\n",
       "      <td>2.10</td>\n",
       "      <td>13085.0</td>\n",
       "      <td>United Kingdom</td>\n",
       "      <td>2009</td>\n",
       "      <td>12</td>\n",
       "      <td>1</td>\n",
       "      <td>1</td>\n",
       "      <td>7</td>\n",
       "      <td>45</td>\n",
       "    </tr>\n",
       "    <tr>\n",
       "      <th>4</th>\n",
       "      <td>489434</td>\n",
       "      <td>21232</td>\n",
       "      <td>STRAWBERRY CERAMIC TRINKET BOX</td>\n",
       "      <td>24</td>\n",
       "      <td>2009-12-01 07:45:00</td>\n",
       "      <td>1.25</td>\n",
       "      <td>13085.0</td>\n",
       "      <td>United Kingdom</td>\n",
       "      <td>2009</td>\n",
       "      <td>12</td>\n",
       "      <td>1</td>\n",
       "      <td>1</td>\n",
       "      <td>7</td>\n",
       "      <td>45</td>\n",
       "    </tr>\n",
       "    <tr>\n",
       "      <th>...</th>\n",
       "      <td>...</td>\n",
       "      <td>...</td>\n",
       "      <td>...</td>\n",
       "      <td>...</td>\n",
       "      <td>...</td>\n",
       "      <td>...</td>\n",
       "      <td>...</td>\n",
       "      <td>...</td>\n",
       "      <td>...</td>\n",
       "      <td>...</td>\n",
       "      <td>...</td>\n",
       "      <td>...</td>\n",
       "      <td>...</td>\n",
       "      <td>...</td>\n",
       "    </tr>\n",
       "    <tr>\n",
       "      <th>1067366</th>\n",
       "      <td>581587</td>\n",
       "      <td>22899</td>\n",
       "      <td>CHILDREN'S APRON DOLLY GIRL</td>\n",
       "      <td>6</td>\n",
       "      <td>2011-12-09 12:50:00</td>\n",
       "      <td>2.10</td>\n",
       "      <td>12680.0</td>\n",
       "      <td>France</td>\n",
       "      <td>2011</td>\n",
       "      <td>12</td>\n",
       "      <td>4</td>\n",
       "      <td>9</td>\n",
       "      <td>12</td>\n",
       "      <td>50</td>\n",
       "    </tr>\n",
       "    <tr>\n",
       "      <th>1067367</th>\n",
       "      <td>581587</td>\n",
       "      <td>23254</td>\n",
       "      <td>CHILDRENS CUTLERY DOLLY GIRL</td>\n",
       "      <td>4</td>\n",
       "      <td>2011-12-09 12:50:00</td>\n",
       "      <td>4.15</td>\n",
       "      <td>12680.0</td>\n",
       "      <td>France</td>\n",
       "      <td>2011</td>\n",
       "      <td>12</td>\n",
       "      <td>4</td>\n",
       "      <td>9</td>\n",
       "      <td>12</td>\n",
       "      <td>50</td>\n",
       "    </tr>\n",
       "    <tr>\n",
       "      <th>1067368</th>\n",
       "      <td>581587</td>\n",
       "      <td>23255</td>\n",
       "      <td>CHILDRENS CUTLERY CIRCUS PARADE</td>\n",
       "      <td>4</td>\n",
       "      <td>2011-12-09 12:50:00</td>\n",
       "      <td>4.15</td>\n",
       "      <td>12680.0</td>\n",
       "      <td>France</td>\n",
       "      <td>2011</td>\n",
       "      <td>12</td>\n",
       "      <td>4</td>\n",
       "      <td>9</td>\n",
       "      <td>12</td>\n",
       "      <td>50</td>\n",
       "    </tr>\n",
       "    <tr>\n",
       "      <th>1067369</th>\n",
       "      <td>581587</td>\n",
       "      <td>22138</td>\n",
       "      <td>BAKING SET 9 PIECE RETROSPOT</td>\n",
       "      <td>3</td>\n",
       "      <td>2011-12-09 12:50:00</td>\n",
       "      <td>4.95</td>\n",
       "      <td>12680.0</td>\n",
       "      <td>France</td>\n",
       "      <td>2011</td>\n",
       "      <td>12</td>\n",
       "      <td>4</td>\n",
       "      <td>9</td>\n",
       "      <td>12</td>\n",
       "      <td>50</td>\n",
       "    </tr>\n",
       "    <tr>\n",
       "      <th>1067370</th>\n",
       "      <td>581587</td>\n",
       "      <td>POST</td>\n",
       "      <td>POSTAGE</td>\n",
       "      <td>1</td>\n",
       "      <td>2011-12-09 12:50:00</td>\n",
       "      <td>18.00</td>\n",
       "      <td>12680.0</td>\n",
       "      <td>France</td>\n",
       "      <td>2011</td>\n",
       "      <td>12</td>\n",
       "      <td>4</td>\n",
       "      <td>9</td>\n",
       "      <td>12</td>\n",
       "      <td>50</td>\n",
       "    </tr>\n",
       "  </tbody>\n",
       "</table>\n",
       "<p>1033036 rows × 14 columns</p>\n",
       "</div>"
      ]
     },
     "execution_count": 72,
     "metadata": {},
     "output_type": "execute_result"
    }
   ],
   "execution_count": 72
  },
  {
   "metadata": {
    "ExecuteTime": {
     "end_time": "2025-09-26T21:26:15.506889Z",
     "start_time": "2025-09-26T21:26:15.093463Z"
    }
   },
   "cell_type": "code",
   "source": [
    "# Removendo compras canceladas do dataset\n",
    "shape_before = df.shape\n",
    "df = df[~df[\"invoice\"].astype(str).str.startswith(\"C\")].copy()\n",
    "df.shape, shape_before\n"
   ],
   "id": "9778f2428e6dfb87",
   "outputs": [
    {
     "data": {
      "text/plain": [
       "((1013932, 14), (1033036, 14))"
      ]
     },
     "execution_count": 73,
     "metadata": {},
     "output_type": "execute_result"
    }
   ],
   "execution_count": 73
  },
  {
   "metadata": {
    "ExecuteTime": {
     "end_time": "2025-09-26T21:26:15.835811Z",
     "start_time": "2025-09-26T21:26:15.587894Z"
    }
   },
   "cell_type": "code",
   "source": [
    "# Realizando controle de outliers\n",
    "q_high_qty = df[\"quantity\"].quantile(0.995)\n",
    "q_high_price = df[\"price\"].quantile(0.995)\n",
    "df = df[(df[\"quantity\"] <= q_high_qty) & (df[\"price\"] <= q_high_price)].copy()\n",
    "df.shape\n"
   ],
   "id": "64ef14334232711b",
   "outputs": [
    {
     "data": {
      "text/plain": [
       "(1004531, 14)"
      ]
     },
     "execution_count": 74,
     "metadata": {},
     "output_type": "execute_result"
    }
   ],
   "execution_count": 74
  },
  {
   "metadata": {
    "ExecuteTime": {
     "end_time": "2025-09-26T21:26:15.944769Z",
     "start_time": "2025-09-26T21:26:15.843152Z"
    }
   },
   "cell_type": "code",
   "source": [
    "# Remoção de valores negativos como preço e numero de produtos\n",
    "print(df.shape)\n",
    "df = df[(df[\"quantity\"] > 0) & (df[\"price\"] > 0)].copy()\n",
    "df.shape\n"
   ],
   "id": "7a18853c9f782a1a",
   "outputs": [
    {
     "name": "stdout",
     "output_type": "stream",
     "text": [
      "(1004531, 14)\n"
     ]
    },
    {
     "data": {
      "text/plain": [
       "(998670, 14)"
      ]
     },
     "execution_count": 75,
     "metadata": {},
     "output_type": "execute_result"
    }
   ],
   "execution_count": 75
  },
  {
   "metadata": {
    "ExecuteTime": {
     "end_time": "2025-09-26T21:26:16.063919Z",
     "start_time": "2025-09-26T21:26:15.956265Z"
    }
   },
   "cell_type": "code",
   "source": [
    "# Verificação de valores nulos final\n",
    "print(df.isnull().sum())"
   ],
   "id": "5f9928bb7c9ad5eb",
   "outputs": [
    {
     "name": "stdout",
     "output_type": "stream",
     "text": [
      "invoice                  0\n",
      "stockcode                0\n",
      "description              0\n",
      "quantity                 0\n",
      "invoicedate              0\n",
      "price                    0\n",
      "customer_id         225854\n",
      "country                  0\n",
      "invoice_year             0\n",
      "invoice_month            0\n",
      "invoice_week_day         0\n",
      "invoice_day              0\n",
      "invoice_hour             0\n",
      "invoice_minutes          0\n",
      "dtype: int64\n"
     ]
    }
   ],
   "execution_count": 76
  },
  {
   "metadata": {
    "ExecuteTime": {
     "end_time": "2025-09-26T21:26:16.148427Z",
     "start_time": "2025-09-26T21:26:16.073317Z"
    }
   },
   "cell_type": "code",
   "source": [
    "# Remoção da coluna 'customer_id' devido à baixa influência e alto número de nulos\n",
    "if \"customer_id\" in df.columns:\n",
    "    df = df.drop(columns=[\"customer_id\"]).copy()\n",
    "\n",
    "df.columns\n"
   ],
   "id": "1290d5f58744a86",
   "outputs": [
    {
     "data": {
      "text/plain": [
       "Index(['invoice', 'stockcode', 'description', 'quantity', 'invoicedate',\n",
       "       'price', 'country', 'invoice_year', 'invoice_month', 'invoice_week_day',\n",
       "       'invoice_day', 'invoice_hour', 'invoice_minutes'],\n",
       "      dtype='object')"
      ]
     },
     "execution_count": 77,
     "metadata": {},
     "output_type": "execute_result"
    }
   ],
   "execution_count": 77
  }
 ],
 "metadata": {
  "kernelspec": {
   "display_name": ".venv",
   "language": "python",
   "name": "python3"
  },
  "language_info": {
   "codemirror_mode": {
    "name": "ipython",
    "version": 3
   },
   "file_extension": ".py",
   "mimetype": "text/x-python",
   "name": "python",
   "nbconvert_exporter": "python",
   "pygments_lexer": "ipython3",
   "version": "3.12.11"
  }
 },
 "nbformat": 4,
 "nbformat_minor": 5
}
